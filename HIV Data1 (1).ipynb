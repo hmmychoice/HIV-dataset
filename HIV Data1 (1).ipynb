{
 "cells": [
  {
   "cell_type": "markdown",
   "metadata": {},
   "source": [
    "# Import Libraries"
   ]
  },
  {
   "cell_type": "code",
   "execution_count": 1,
   "metadata": {},
   "outputs": [],
   "source": [
    "import numpy as np\n",
    "import pandas as pd"
   ]
  },
  {
   "cell_type": "markdown",
   "metadata": {},
   "source": [
    "# Import Datatset 1"
   ]
  },
  {
   "cell_type": "code",
   "execution_count": 2,
   "metadata": {},
   "outputs": [],
   "source": [
    "data1 =pd.read_csv(\"C:\\\\Users\\\\mehta\\\\OneDrive\\\\Desktop\\\\HIV_0000000026^JSDGHIV (1).csv\")"
   ]
  },
  {
   "cell_type": "markdown",
   "metadata": {},
   "source": [
    "# Print first 5 rows of the data"
   ]
  },
  {
   "cell_type": "code",
   "execution_count": 3,
   "metadata": {},
   "outputs": [
    {
     "data": {
      "text/html": [
       "<div>\n",
       "<style scoped>\n",
       "    .dataframe tbody tr th:only-of-type {\n",
       "        vertical-align: middle;\n",
       "    }\n",
       "\n",
       "    .dataframe tbody tr th {\n",
       "        vertical-align: top;\n",
       "    }\n",
       "\n",
       "    .dataframe thead th {\n",
       "        text-align: right;\n",
       "    }\n",
       "</style>\n",
       "<table border=\"1\" class=\"dataframe\">\n",
       "  <thead>\n",
       "    <tr style=\"text-align: right;\">\n",
       "      <th></th>\n",
       "      <th>Unnamed: 0</th>\n",
       "      <th>Unnamed: 1</th>\n",
       "      <th>Number of new HIV infections</th>\n",
       "      <th>New HIV infections (per 1000 uninfected population)</th>\n",
       "      <th>New HIV infections (per 1000 uninfected population).1</th>\n",
       "      <th>New HIV infections (per 1000 uninfected population).2</th>\n",
       "    </tr>\n",
       "  </thead>\n",
       "  <tbody>\n",
       "    <tr>\n",
       "      <th>0</th>\n",
       "      <td>WHO region</td>\n",
       "      <td>Year</td>\n",
       "      <td></td>\n",
       "      <td>Both sexes</td>\n",
       "      <td>Male</td>\n",
       "      <td>Female</td>\n",
       "    </tr>\n",
       "    <tr>\n",
       "      <th>1</th>\n",
       "      <td>Global</td>\n",
       "      <td>2019</td>\n",
       "      <td>1 700 000 [1 200 000–2 200 000]</td>\n",
       "      <td>0.22 [0.16–0.3]</td>\n",
       "      <td>0.23 [0.17–0.32]</td>\n",
       "      <td>0.21 [0.16-0.29]</td>\n",
       "    </tr>\n",
       "    <tr>\n",
       "      <th>2</th>\n",
       "      <td>Global</td>\n",
       "      <td>2018</td>\n",
       "      <td>1 700 000 [1 200 000–2 300 000]</td>\n",
       "      <td>0.23 [0.17–0.31]</td>\n",
       "      <td>0.24 [0.17–0.33]</td>\n",
       "      <td>0.22 [0.16-0.3]</td>\n",
       "    </tr>\n",
       "    <tr>\n",
       "      <th>3</th>\n",
       "      <td>Global</td>\n",
       "      <td>2017</td>\n",
       "      <td>1 800 000 [1 300 000–2 400 000]</td>\n",
       "      <td>0.24 [0.18–0.32]</td>\n",
       "      <td>0.24 [0.18–0.34]</td>\n",
       "      <td>0.23 [0.17-0.32]</td>\n",
       "    </tr>\n",
       "    <tr>\n",
       "      <th>4</th>\n",
       "      <td>Global</td>\n",
       "      <td>2016</td>\n",
       "      <td>1 800 000 [1 300 000–2 400 000]</td>\n",
       "      <td>0.25 [0.18–0.34]</td>\n",
       "      <td>0.25 [0.18–0.35]</td>\n",
       "      <td>0.24 [0.18-0.33]</td>\n",
       "    </tr>\n",
       "  </tbody>\n",
       "</table>\n",
       "</div>"
      ],
      "text/plain": [
       "   Unnamed: 0 Unnamed: 1     Number of new HIV infections  \\\n",
       "0  WHO region       Year                                    \n",
       "1      Global       2019  1 700 000 [1 200 000–2 200 000]   \n",
       "2      Global       2018  1 700 000 [1 200 000–2 300 000]   \n",
       "3      Global       2017  1 800 000 [1 300 000–2 400 000]   \n",
       "4      Global       2016  1 800 000 [1 300 000–2 400 000]   \n",
       "\n",
       "  New HIV infections (per 1000 uninfected population)  \\\n",
       "0                                         Both sexes    \n",
       "1                                    0.22 [0.16–0.3]    \n",
       "2                                   0.23 [0.17–0.31]    \n",
       "3                                   0.24 [0.18–0.32]    \n",
       "4                                   0.25 [0.18–0.34]    \n",
       "\n",
       "  New HIV infections (per 1000 uninfected population).1  \\\n",
       "0                                               Male      \n",
       "1                                   0.23 [0.17–0.32]      \n",
       "2                                   0.24 [0.17–0.33]      \n",
       "3                                   0.24 [0.18–0.34]      \n",
       "4                                   0.25 [0.18–0.35]      \n",
       "\n",
       "  New HIV infections (per 1000 uninfected population).2  \n",
       "0                                             Female     \n",
       "1                                   0.21 [0.16-0.29]     \n",
       "2                                    0.22 [0.16-0.3]     \n",
       "3                                   0.23 [0.17-0.32]     \n",
       "4                                   0.24 [0.18-0.33]     "
      ]
     },
     "execution_count": 3,
     "metadata": {},
     "output_type": "execute_result"
    }
   ],
   "source": [
    "data1.head()"
   ]
  },
  {
   "cell_type": "markdown",
   "metadata": {},
   "source": [
    "# Print the column names."
   ]
  },
  {
   "cell_type": "code",
   "execution_count": 4,
   "metadata": {},
   "outputs": [
    {
     "data": {
      "text/plain": [
       "Index(['Unnamed: 0', 'Unnamed: 1', 'Number of new HIV infections',\n",
       "       'New HIV infections (per 1000 uninfected population)',\n",
       "       'New HIV infections (per 1000 uninfected population).1',\n",
       "       'New HIV infections (per 1000 uninfected population).2'],\n",
       "      dtype='object')"
      ]
     },
     "execution_count": 4,
     "metadata": {},
     "output_type": "execute_result"
    }
   ],
   "source": [
    "data1.columns"
   ]
  },
  {
   "cell_type": "markdown",
   "metadata": {},
   "source": [
    "# Remove the brackets and content inside it."
   ]
  },
  {
   "cell_type": "code",
   "execution_count": 5,
   "metadata": {},
   "outputs": [],
   "source": [
    "import re\n",
    "for column in data1.columns:\n",
    "    data1[\"Number of new HIV infections\"]= data1[\"Number of new HIV infections\"].str.replace(r\"\\[.*\\]\",\" \")\n",
    "    data1[\"New HIV infections (per 1000 uninfected population)\"]= data1[\"New HIV infections (per 1000 uninfected population)\"].str.replace(r\"\\[.*\\]\",\" \")                                                                                       \n",
    "    data1[\"New HIV infections (per 1000 uninfected population).1\"]= data1[\"New HIV infections (per 1000 uninfected population).1\"].str.replace(r\"\\[.*\\]\",\" \")\n",
    "    data1[\"New HIV infections (per 1000 uninfected population).2\"]= data1[\"New HIV infections (per 1000 uninfected population).2\"].str.replace(r\"\\[.*\\]\",\" \")                                                                                         "
   ]
  },
  {
   "cell_type": "markdown",
   "metadata": {},
   "source": [
    "# Print cleaned data"
   ]
  },
  {
   "cell_type": "code",
   "execution_count": 6,
   "metadata": {},
   "outputs": [
    {
     "data": {
      "text/html": [
       "<div>\n",
       "<style scoped>\n",
       "    .dataframe tbody tr th:only-of-type {\n",
       "        vertical-align: middle;\n",
       "    }\n",
       "\n",
       "    .dataframe tbody tr th {\n",
       "        vertical-align: top;\n",
       "    }\n",
       "\n",
       "    .dataframe thead th {\n",
       "        text-align: right;\n",
       "    }\n",
       "</style>\n",
       "<table border=\"1\" class=\"dataframe\">\n",
       "  <thead>\n",
       "    <tr style=\"text-align: right;\">\n",
       "      <th></th>\n",
       "      <th>Unnamed: 0</th>\n",
       "      <th>Unnamed: 1</th>\n",
       "      <th>Number of new HIV infections</th>\n",
       "      <th>New HIV infections (per 1000 uninfected population)</th>\n",
       "      <th>New HIV infections (per 1000 uninfected population).1</th>\n",
       "      <th>New HIV infections (per 1000 uninfected population).2</th>\n",
       "    </tr>\n",
       "  </thead>\n",
       "  <tbody>\n",
       "    <tr>\n",
       "      <th>0</th>\n",
       "      <td>WHO region</td>\n",
       "      <td>Year</td>\n",
       "      <td></td>\n",
       "      <td>Both sexes</td>\n",
       "      <td>Male</td>\n",
       "      <td>Female</td>\n",
       "    </tr>\n",
       "    <tr>\n",
       "      <th>1</th>\n",
       "      <td>Global</td>\n",
       "      <td>2019</td>\n",
       "      <td>1 700 000</td>\n",
       "      <td>0.22</td>\n",
       "      <td>0.23</td>\n",
       "      <td>0.21</td>\n",
       "    </tr>\n",
       "    <tr>\n",
       "      <th>2</th>\n",
       "      <td>Global</td>\n",
       "      <td>2018</td>\n",
       "      <td>1 700 000</td>\n",
       "      <td>0.23</td>\n",
       "      <td>0.24</td>\n",
       "      <td>0.22</td>\n",
       "    </tr>\n",
       "    <tr>\n",
       "      <th>3</th>\n",
       "      <td>Global</td>\n",
       "      <td>2017</td>\n",
       "      <td>1 800 000</td>\n",
       "      <td>0.24</td>\n",
       "      <td>0.24</td>\n",
       "      <td>0.23</td>\n",
       "    </tr>\n",
       "    <tr>\n",
       "      <th>4</th>\n",
       "      <td>Global</td>\n",
       "      <td>2016</td>\n",
       "      <td>1 800 000</td>\n",
       "      <td>0.25</td>\n",
       "      <td>0.25</td>\n",
       "      <td>0.24</td>\n",
       "    </tr>\n",
       "  </tbody>\n",
       "</table>\n",
       "</div>"
      ],
      "text/plain": [
       "   Unnamed: 0 Unnamed: 1 Number of new HIV infections  \\\n",
       "0  WHO region       Year                                \n",
       "1      Global       2019                  1 700 000     \n",
       "2      Global       2018                  1 700 000     \n",
       "3      Global       2017                  1 800 000     \n",
       "4      Global       2016                  1 800 000     \n",
       "\n",
       "  New HIV infections (per 1000 uninfected population)  \\\n",
       "0                                         Both sexes    \n",
       "1                                             0.22      \n",
       "2                                             0.23      \n",
       "3                                             0.24      \n",
       "4                                             0.25      \n",
       "\n",
       "  New HIV infections (per 1000 uninfected population).1  \\\n",
       "0                                               Male      \n",
       "1                                             0.23        \n",
       "2                                             0.24        \n",
       "3                                             0.24        \n",
       "4                                             0.25        \n",
       "\n",
       "  New HIV infections (per 1000 uninfected population).2  \n",
       "0                                             Female     \n",
       "1                                             0.21       \n",
       "2                                             0.22       \n",
       "3                                             0.23       \n",
       "4                                             0.24       "
      ]
     },
     "execution_count": 6,
     "metadata": {},
     "output_type": "execute_result"
    }
   ],
   "source": [
    "data1.head()"
   ]
  },
  {
   "cell_type": "code",
   "execution_count": 7,
   "metadata": {},
   "outputs": [
    {
     "name": "stdout",
     "output_type": "stream",
     "text": [
      "the data is cleaned\n"
     ]
    }
   ],
   "source": [
    "print(\"the data is cleaned\")"
   ]
  },
  {
   "cell_type": "code",
   "execution_count": null,
   "metadata": {},
   "outputs": [],
   "source": []
  }
 ],
 "metadata": {
  "celltoolbar": "Raw Cell Format",
  "kernelspec": {
   "display_name": "Python 3",
   "language": "python",
   "name": "python3"
  },
  "language_info": {
   "codemirror_mode": {
    "name": "ipython",
    "version": 3
   },
   "file_extension": ".py",
   "mimetype": "text/x-python",
   "name": "python",
   "nbconvert_exporter": "python",
   "pygments_lexer": "ipython3",
   "version": "3.8.3"
  }
 },
 "nbformat": 4,
 "nbformat_minor": 4
}
